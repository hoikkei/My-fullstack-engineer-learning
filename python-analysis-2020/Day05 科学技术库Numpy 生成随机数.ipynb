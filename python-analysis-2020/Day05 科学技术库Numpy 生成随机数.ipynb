{
 "cells": [
  {
   "cell_type": "markdown",
   "metadata": {},
   "source": [
    "在Numpy中生成随机数，主要用到random模块"
   ]
  },
  {
   "cell_type": "markdown",
   "metadata": {},
   "source": [
    "1.random.rand()\n",
    "\n",
    "利用random.rand()函数，可以生成在0~1范围内满足均匀分布的随机数。\n",
    "\n",
    "1.random.rand()\n",
    "\n",
    "利用random.rand()函数，可以生成在0~1范围内满足均匀分布的随机数\n",
    "在\"()\"中输入数字4，将生成4个数字，满足均匀分布。\n",
    "\n"
   ]
  },
  {
   "cell_type": "code",
   "execution_count": 1,
   "metadata": {},
   "outputs": [
    {
     "data": {
      "text/plain": [
       "array([0.36353113, 0.65336693, 0.45776048, 0.54137192])"
      ]
     },
     "execution_count": 1,
     "metadata": {},
     "output_type": "execute_result"
    }
   ],
   "source": [
    "import numpy as np\n",
    "a = np.random.rand(4)\n",
    "a"
   ]
  },
  {
   "cell_type": "markdown",
   "metadata": {},
   "source": [
    "若要满足均匀分布的二维数组，如，在\"()\"中输入5，4，则会生成一个五行四列的、元素满足在0~1之间均匀分布的数组，也就是说每一个元素被抽中的概率都是相等的。\n"
   ]
  },
  {
   "cell_type": "code",
   "execution_count": 2,
   "metadata": {},
   "outputs": [
    {
     "data": {
      "text/plain": [
       "array([[0.20508002, 0.75359026, 0.45992999, 0.05550223],\n",
       "       [0.2785722 , 0.91849797, 0.90194644, 0.21233705],\n",
       "       [0.79978051, 0.78384058, 0.66468688, 0.16702105],\n",
       "       [0.20072463, 0.9217028 , 0.00877078, 0.02823318],\n",
       "       [0.39883241, 0.03516663, 0.24613212, 0.1820685 ]])"
      ]
     },
     "execution_count": 2,
     "metadata": {},
     "output_type": "execute_result"
    }
   ],
   "source": [
    "b = np.random.rand(5,4)\n",
    "b"
   ]
  },
  {
   "cell_type": "code",
   "execution_count": null,
   "metadata": {},
   "outputs": [],
   "source": []
  },
  {
   "cell_type": "markdown",
   "metadata": {},
   "source": [
    "2、random.randn()\n",
    "\n",
    "random.randn()函数生成的是以零为中心的标准正态分布。比如，用这个函数生成7个随机数，结果如下：\n"
   ]
  },
  {
   "cell_type": "code",
   "execution_count": 3,
   "metadata": {},
   "outputs": [
    {
     "data": {
      "text/plain": [
       "array([ 0.26768435,  1.52353079, -0.74062641,  0.52718515,  1.48919575,\n",
       "        0.90181563, -0.03680515])"
      ]
     },
     "execution_count": 3,
     "metadata": {},
     "output_type": "execute_result"
    }
   ],
   "source": [
    "g = np.random.randn(7)\n",
    "g"
   ]
  },
  {
   "cell_type": "markdown",
   "metadata": {},
   "source": [
    "若要满足该分布的二维数组，则在“()”中输入4，，5，会生成一个四行五列的、满足以零为中心标准正态分布的矩阵。"
   ]
  },
  {
   "cell_type": "code",
   "execution_count": null,
   "metadata": {},
   "outputs": [],
   "source": []
  },
  {
   "cell_type": "markdown",
   "metadata": {},
   "source": [
    "3、random.randint()\n",
    "\n",
    "看到random.randit()函数末尾的int,该函数是为了生成一些整数型随机数的\n",
    "\n"
   ]
  },
  {
   "cell_type": "code",
   "execution_count": 5,
   "metadata": {},
   "outputs": [
    {
     "data": {
      "text/plain": [
       "10"
      ]
     },
     "execution_count": 5,
     "metadata": {},
     "output_type": "execute_result"
    }
   ],
   "source": [
    "np.random.randint(20)"
   ]
  },
  {
   "cell_type": "code",
   "execution_count": 6,
   "metadata": {},
   "outputs": [
    {
     "data": {
      "text/plain": [
       "15"
      ]
     },
     "execution_count": 6,
     "metadata": {},
     "output_type": "execute_result"
    }
   ],
   "source": [
    "np.random.randint(5,20)"
   ]
  },
  {
   "cell_type": "code",
   "execution_count": 7,
   "metadata": {},
   "outputs": [
    {
     "data": {
      "text/plain": [
       "array([ 7, 12, 10, 14, 14,  7,  9,  5])"
      ]
     },
     "execution_count": 7,
     "metadata": {},
     "output_type": "execute_result"
    }
   ],
   "source": [
    "np.random.randint(5,20,8)"
   ]
  },
  {
   "cell_type": "markdown",
   "metadata": {},
   "source": [
    "### 根据输出结果，可以得出结论：第一个和第二个参数规定了所生成随机数的范围，第三个随机数规定了生成随机数的个数。\n",
    "\n",
    "### 特别注意的是：在生成的随机数中，可以包含最小数，但不能生成最大值。比如，在例子中，生成的随机数可能出现5，但不可能生成20."
   ]
  },
  {
   "cell_type": "code",
   "execution_count": null,
   "metadata": {},
   "outputs": [],
   "source": []
  },
  {
   "cell_type": "markdown",
   "metadata": {},
   "source": [
    "4. 高级随机生成数组的函数"
   ]
  },
  {
   "cell_type": "markdown",
   "metadata": {},
   "source": [
    "（1） 二项分布\n",
    "\n",
    "random.binomial(n,p,size=N)随机成一组服从二项分布的随机数，其中，三个参数分别表示：\n",
    "\n",
    "n表示试验次数，p代表概率，N代表随机生成的轮数。具体使用如下："
   ]
  },
  {
   "cell_type": "code",
   "execution_count": null,
   "metadata": {},
   "outputs": [],
   "source": [
    "d = np.random.binommial(9,0.5,size=10)\n"
   ]
  },
  {
   "cell_type": "markdown",
   "metadata": {},
   "source": [
    "对上述代码可以解释为：假如一次抛9枚硬币，每枚硬币出现正反面的概率都是0.5，共重复10次这样的实验。"
   ]
  },
  {
   "cell_type": "code",
   "execution_count": null,
   "metadata": {},
   "outputs": [],
   "source": []
  },
  {
   "cell_type": "markdown",
   "metadata": {},
   "source": [
    "（2）超几何分布\n",
    "\n",
    "该函数用来生成服从超几何分布的随机数。\n",
    "\n",
    "random.hypergeometric(n1,n2,size=N)函数：\n"
   ]
  },
  {
   "cell_type": "code",
   "execution_count": 10,
   "metadata": {},
   "outputs": [
    {
     "data": {
      "text/plain": [
       "array([2, 3, 2, 3, 3, 3, 2, 3, 3, 3, 3, 3, 2, 3, 2, 3, 3, 3, 3, 2, 3, 3,\n",
       "       2, 2, 3, 3, 2, 3, 3, 3, 2, 3, 2, 3, 2, 3, 3, 3, 2, 2, 3, 3, 3, 3,\n",
       "       3, 2, 3, 3, 3, 3])"
      ]
     },
     "execution_count": 10,
     "metadata": {},
     "output_type": "execute_result"
    }
   ],
   "source": [
    "d = np.random.hypergeometric(47,3,3,size=50)\n",
    "d"
   ]
  },
  {
   "cell_type": "markdown",
   "metadata": {},
   "source": [
    "(3) 正态分布\n",
    "\n",
    "np.random.normal(loc,scale,size=N)函数用来生成服从正态分布的随机数，其中的三个参数意义分别是：\n",
    "\n",
    "loc表示均值，scale表示标准差，N代表所重复试验次数。\n",
    "当第一个和第二个参数缺省时，默认生成服从均值为0，标准差为1的标准正态分布。\n",
    "\n",
    "下面是生成100个服从标准正态分布的随机数。"
   ]
  },
  {
   "cell_type": "code",
   "execution_count": 11,
   "metadata": {},
   "outputs": [
    {
     "data": {
      "text/plain": [
       "array([-8.46591325e-01, -8.46342111e-01, -3.76641912e-01,  3.54799052e-01,\n",
       "        2.18205210e+00,  8.31727138e-01,  2.60711308e-01, -2.03458124e-01,\n",
       "        1.41841249e-01,  9.29434322e-02, -1.22220757e-01, -4.87846717e-01,\n",
       "        4.35894681e-01, -1.77462396e+00,  1.64034202e+00, -3.94258659e-02,\n",
       "       -1.46427597e-01, -5.97294803e-02,  1.39660426e+00,  1.21329572e+00,\n",
       "       -5.98796242e-01,  2.60066233e-01,  1.02160293e+00, -1.56445199e+00,\n",
       "       -9.30373057e-02, -6.53761602e-01,  1.11030727e-01, -3.30924127e-01,\n",
       "        8.58896464e-01,  2.89036876e-01, -9.07461320e-01, -2.21237803e-01,\n",
       "        8.29219021e-01,  1.43273330e+00, -1.19314799e+00, -4.44980400e-02,\n",
       "        2.73331267e-01,  4.37785713e-02,  4.95551428e-02, -8.81486677e-01,\n",
       "       -1.51934644e+00,  1.81887488e-01, -5.69774885e-01,  1.11934835e+00,\n",
       "       -8.97644748e-01,  1.71905722e+00,  1.50765412e+00, -1.23812605e+00,\n",
       "       -2.61382633e+00,  8.06795268e-01, -1.07247844e+00, -7.69506180e-02,\n",
       "        7.73758599e-01, -1.34741512e+00, -1.47260759e+00, -2.29488343e-01,\n",
       "       -9.74417657e-02,  1.40047576e-01,  2.41220647e-01, -7.85847281e-01,\n",
       "       -8.09932919e-01,  8.73769364e-01,  6.21344590e-01, -8.61744812e-01,\n",
       "        9.18272432e-01,  2.51360686e-01, -1.24506772e+00, -9.51048405e-01,\n",
       "       -1.16690590e+00, -1.29571286e+00,  2.55369729e-01,  3.53955590e-01,\n",
       "       -1.74744859e+00,  1.21949630e+00,  2.82129036e+00, -1.33204198e+00,\n",
       "       -1.63804468e+00,  1.22968887e+00, -1.78859430e+00,  2.04513801e-01,\n",
       "        1.09388197e+00,  1.28805013e+00,  1.47853681e+00, -3.21183250e-01,\n",
       "       -8.81350619e-01, -2.52185502e-02, -3.44587749e-02, -4.20897248e-01,\n",
       "       -3.49943548e-01,  2.88012761e-01,  2.02899430e-01, -6.84371052e-01,\n",
       "        2.17370985e-01, -2.79785613e+00,  2.91038873e-01,  7.01585714e-04,\n",
       "        1.29480537e+00, -2.48594840e+00, -1.10593219e-01,  8.21964405e-01])"
      ]
     },
     "execution_count": 11,
     "metadata": {},
     "output_type": "execute_result"
    }
   ],
   "source": [
    "e = np.random.normal(size=100)\n",
    "e"
   ]
  },
  {
   "cell_type": "code",
   "execution_count": null,
   "metadata": {},
   "outputs": [],
   "source": []
  }
 ],
 "metadata": {
  "kernelspec": {
   "display_name": "Python 3",
   "language": "python",
   "name": "python3"
  },
  "language_info": {
   "codemirror_mode": {
    "name": "ipython",
    "version": 3
   },
   "file_extension": ".py",
   "mimetype": "text/x-python",
   "name": "python",
   "nbconvert_exporter": "python",
   "pygments_lexer": "ipython3",
   "version": "3.8.3"
  }
 },
 "nbformat": 4,
 "nbformat_minor": 4
}
