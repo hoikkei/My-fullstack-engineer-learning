{
 "cells": [
  {
   "cell_type": "markdown",
   "metadata": {},
   "source": [
    "1.元素级别的计算\n",
    "\n",
    "（1）定义一个新数组arr11,用arange()函数和reshape()函数创建一个1~12组成的4*3的矩阵"
   ]
  },
  {
   "cell_type": "code",
   "execution_count": 1,
   "metadata": {},
   "outputs": [
    {
     "data": {
      "text/plain": [
       "array([[ 4,  3,  2],\n",
       "       [ 1,  0, -1],\n",
       "       [-2, -3, -4],\n",
       "       [-5, -6, -7]])"
      ]
     },
     "execution_count": 1,
     "metadata": {},
     "output_type": "execute_result"
    }
   ],
   "source": [
    "import numpy as np\n",
    "arr11 = 5-np.arange(1,13).reshape(4,3)\n",
    "arr11"
   ]
  },
  {
   "cell_type": "markdown",
   "metadata": {},
   "source": [
    "(2) 用**表示乘方，对arr11中的每个元素进行平方。计算结果如下:\n"
   ]
  },
  {
   "cell_type": "code",
   "execution_count": 2,
   "metadata": {},
   "outputs": [
    {
     "data": {
      "text/plain": [
       "array([[16,  9,  4],\n",
       "       [ 1,  0,  1],\n",
       "       [ 4,  9, 16],\n",
       "       [25, 36, 49]], dtype=int32)"
      ]
     },
     "execution_count": 2,
     "metadata": {},
     "output_type": "execute_result"
    }
   ],
   "source": [
    "arr11**2"
   ]
  },
  {
   "cell_type": "markdown",
   "metadata": {},
   "source": [
    "(3) 用np.sqrt() 对arr11中的每个元素开根号求值"
   ]
  },
  {
   "cell_type": "code",
   "execution_count": 3,
   "metadata": {},
   "outputs": [
    {
     "name": "stderr",
     "output_type": "stream",
     "text": [
      "<ipython-input-3-8c87c891600c>:1: RuntimeWarning: invalid value encountered in sqrt\n",
      "  np.sqrt(arr11)\n"
     ]
    },
    {
     "data": {
      "text/plain": [
       "array([[2.        , 1.73205081, 1.41421356],\n",
       "       [1.        , 0.        ,        nan],\n",
       "       [       nan,        nan,        nan],\n",
       "       [       nan,        nan,        nan]])"
      ]
     },
     "execution_count": 3,
     "metadata": {},
     "output_type": "execute_result"
    }
   ],
   "source": [
    "np.sqrt(arr11)"
   ]
  },
  {
   "cell_type": "markdown",
   "metadata": {},
   "source": [
    "发现出现了\"nan\"值，这是因为在arr11中有的元素是负值，负值不能开根。"
   ]
  },
  {
   "cell_type": "markdown",
   "metadata": {},
   "source": [
    "（4）以e为底，arr11中的每个元素为指数，求值：\n"
   ]
  },
  {
   "cell_type": "code",
   "execution_count": 4,
   "metadata": {},
   "outputs": [
    {
     "data": {
      "text/plain": [
       "array([[5.45981500e+01, 2.00855369e+01, 7.38905610e+00],\n",
       "       [2.71828183e+00, 1.00000000e+00, 3.67879441e-01],\n",
       "       [1.35335283e-01, 4.97870684e-02, 1.83156389e-02],\n",
       "       [6.73794700e-03, 2.47875218e-03, 9.11881966e-04]])"
      ]
     },
     "execution_count": 4,
     "metadata": {},
     "output_type": "execute_result"
    }
   ],
   "source": [
    "np.exp(arr11)"
   ]
  },
  {
   "cell_type": "markdown",
   "metadata": {},
   "source": [
    "(5)求对数，用np.log()函数："
   ]
  },
  {
   "cell_type": "code",
   "execution_count": 5,
   "metadata": {},
   "outputs": [
    {
     "name": "stderr",
     "output_type": "stream",
     "text": [
      "<ipython-input-5-bb63112e68ba>:1: RuntimeWarning: divide by zero encountered in log\n",
      "  np.log(arr11)\n",
      "<ipython-input-5-bb63112e68ba>:1: RuntimeWarning: invalid value encountered in log\n",
      "  np.log(arr11)\n"
     ]
    },
    {
     "data": {
      "text/plain": [
       "array([[1.38629436, 1.09861229, 0.69314718],\n",
       "       [0.        ,       -inf,        nan],\n",
       "       [       nan,        nan,        nan],\n",
       "       [       nan,        nan,        nan]])"
      ]
     },
     "execution_count": 5,
     "metadata": {},
     "output_type": "execute_result"
    }
   ],
   "source": [
    "np.log(arr11)"
   ]
  },
  {
   "cell_type": "markdown",
   "metadata": {},
   "source": [
    "(6) 利用np.abs()函数对arr11中的每个元素进行求和"
   ]
  },
  {
   "cell_type": "code",
   "execution_count": 6,
   "metadata": {},
   "outputs": [
    {
     "data": {
      "text/plain": [
       "array([[4, 3, 2],\n",
       "       [1, 0, 1],\n",
       "       [2, 3, 4],\n",
       "       [5, 6, 7]])"
      ]
     },
     "execution_count": 6,
     "metadata": {},
     "output_type": "execute_result"
    }
   ],
   "source": [
    "np.abs(arr11)"
   ]
  },
  {
   "cell_type": "code",
   "execution_count": null,
   "metadata": {},
   "outputs": [],
   "source": []
  },
  {
   "cell_type": "markdown",
   "metadata": {},
   "source": [
    "2、统计运算函数\n",
    "\n",
    "（1） np.sum()\n",
    "利用np.sum()函数对数组中的元素进行求和。\n",
    "\n",
    "若想对数组中的每一列求和，在括号中加入参数 axis =0, 如果需要对行求和，那么将0改为1即可。\n",
    "\n"
   ]
  },
  {
   "cell_type": "code",
   "execution_count": 7,
   "metadata": {},
   "outputs": [
    {
     "data": {
      "text/plain": [
       "-18"
      ]
     },
     "execution_count": 7,
     "metadata": {},
     "output_type": "execute_result"
    }
   ],
   "source": [
    "np.sum(arr11)"
   ]
  },
  {
   "cell_type": "code",
   "execution_count": 8,
   "metadata": {},
   "outputs": [
    {
     "data": {
      "text/plain": [
       "array([ -2,  -6, -10])"
      ]
     },
     "execution_count": 8,
     "metadata": {},
     "output_type": "execute_result"
    }
   ],
   "source": [
    "np.sum(arr11,axis=0)"
   ]
  },
  {
   "cell_type": "code",
   "execution_count": 9,
   "metadata": {},
   "outputs": [
    {
     "data": {
      "text/plain": [
       "array([  9,   0,  -9, -18])"
      ]
     },
     "execution_count": 9,
     "metadata": {},
     "output_type": "execute_result"
    }
   ],
   "source": [
    "np.sum(arr11,axis=1)"
   ]
  },
  {
   "cell_type": "code",
   "execution_count": null,
   "metadata": {},
   "outputs": [],
   "source": []
  },
  {
   "cell_type": "markdown",
   "metadata": {},
   "source": [
    "(2) np.cumsum()\n",
    "\n",
    "利用np.cumsum()累计和，注意：求数组arr11中的元素的累计和的顺序是“从上到下，从左到右”，最终得到结果：\n",
    "\n",
    "同样，若想要对数组中的每一列求累计和，在括号中加入参数 axis=0,如果需要对行求累计和，那么将改为1即可。"
   ]
  },
  {
   "cell_type": "code",
   "execution_count": 10,
   "metadata": {},
   "outputs": [
    {
     "data": {
      "text/plain": [
       "array([  4,   7,   9,  10,  10,   9,   7,   4,   0,  -5, -11, -18],\n",
       "      dtype=int32)"
      ]
     },
     "execution_count": 10,
     "metadata": {},
     "output_type": "execute_result"
    }
   ],
   "source": [
    "np.cumsum(arr11)"
   ]
  },
  {
   "cell_type": "code",
   "execution_count": 11,
   "metadata": {},
   "outputs": [
    {
     "data": {
      "text/plain": [
       "array([[  4,   3,   2],\n",
       "       [  5,   3,   1],\n",
       "       [  3,   0,  -3],\n",
       "       [ -2,  -6, -10]], dtype=int32)"
      ]
     },
     "execution_count": 11,
     "metadata": {},
     "output_type": "execute_result"
    }
   ],
   "source": [
    "np.cumsum(arr11,axis=0)"
   ]
  },
  {
   "cell_type": "code",
   "execution_count": 12,
   "metadata": {},
   "outputs": [
    {
     "data": {
      "text/plain": [
       "array([[  4,   7,   9],\n",
       "       [  1,   1,   0],\n",
       "       [ -2,  -5,  -9],\n",
       "       [ -5, -11, -18]], dtype=int32)"
      ]
     },
     "execution_count": 12,
     "metadata": {},
     "output_type": "execute_result"
    }
   ],
   "source": [
    "np.cumsum(arr11,axis=1)"
   ]
  },
  {
   "cell_type": "markdown",
   "metadata": {},
   "source": [
    "(2) np.cumprod()\n",
    "\n",
    "求数组中元素的累计积，用法如下："
   ]
  },
  {
   "cell_type": "code",
   "execution_count": 16,
   "metadata": {},
   "outputs": [
    {
     "data": {
      "text/plain": [
       "array([ 4, 12, 24, 24,  0,  0,  0,  0,  0,  0,  0,  0], dtype=int32)"
      ]
     },
     "execution_count": 16,
     "metadata": {},
     "output_type": "execute_result"
    }
   ],
   "source": [
    "np.cumprod(arr11)"
   ]
  },
  {
   "cell_type": "markdown",
   "metadata": {},
   "source": [
    "np.min()\n",
    "\n",
    "np.max()\n",
    "\n",
    "np.mean()\n",
    "\n",
    "np.median()\n",
    "\n",
    "np.var()  #方差\n",
    "\n",
    "np.std()  #标准差\n",
    "\n",
    "where()  #该函数相当于Excel中的if函数\n",
    "\n"
   ]
  },
  {
   "cell_type": "code",
   "execution_count": 17,
   "metadata": {},
   "outputs": [
    {
     "data": {
      "text/plain": [
       "array([[ 4,  3,  2],\n",
       "       [ 1,  0, -1],\n",
       "       [-2, -3, -4],\n",
       "       [-5, -6, -7]])"
      ]
     },
     "execution_count": 17,
     "metadata": {},
     "output_type": "execute_result"
    }
   ],
   "source": [
    "arr11"
   ]
  },
  {
   "cell_type": "code",
   "execution_count": 18,
   "metadata": {},
   "outputs": [
    {
     "data": {
      "text/plain": [
       "array([['positive', 'positive', 'positive'],\n",
       "       ['positive', 'positive', 'negtive'],\n",
       "       ['negtive', 'negtive', 'negtive'],\n",
       "       ['negtive', 'negtive', 'negtive']], dtype='<U8')"
      ]
     },
     "execution_count": 18,
     "metadata": {},
     "output_type": "execute_result"
    }
   ],
   "source": [
    "np.where(arr11<0,'negtive','positive')"
   ]
  },
  {
   "cell_type": "code",
   "execution_count": null,
   "metadata": {},
   "outputs": [],
   "source": []
  },
  {
   "cell_type": "markdown",
   "metadata": {},
   "source": [
    "3. 线性代数的运算\n",
    "\n",
    "(1) 重新生成一个数组 arr13:"
   ]
  },
  {
   "cell_type": "code",
   "execution_count": 20,
   "metadata": {},
   "outputs": [
    {
     "data": {
      "text/plain": [
       "array([[1, 2, 3, 5],\n",
       "       [2, 4, 1, 6],\n",
       "       [1, 1, 4, 3],\n",
       "       [2, 5, 4, 1]])"
      ]
     },
     "execution_count": 20,
     "metadata": {},
     "output_type": "execute_result"
    }
   ],
   "source": [
    "arr13 = np.array([[1,2,3,5],[2,4,1,6],[1,1,4,3],[2,5,4,1]])\n",
    "arr13"
   ]
  },
  {
   "cell_type": "markdown",
   "metadata": {},
   "source": [
    "(2) linalg库\n",
    "\n",
    "从Numpy中的linalg库中提取函数，可以对矩阵进行一系列计算。"
   ]
  },
  {
   "cell_type": "code",
   "execution_count": 21,
   "metadata": {},
   "outputs": [
    {
     "data": {
      "text/plain": [
       "51.00000000000002"
      ]
     },
     "execution_count": 21,
     "metadata": {},
     "output_type": "execute_result"
    }
   ],
   "source": [
    "np.linalg.det(arr13) #求行列式"
   ]
  },
  {
   "cell_type": "markdown",
   "metadata": {},
   "source": [
    "求逆矩阵："
   ]
  },
  {
   "cell_type": "code",
   "execution_count": 22,
   "metadata": {},
   "outputs": [
    {
     "data": {
      "text/plain": [
       "array([[-2.23529412,  1.05882353,  1.70588235, -0.29411765],\n",
       "       [ 0.68627451, -0.25490196, -0.7254902 ,  0.2745098 ],\n",
       "       [ 0.19607843, -0.21568627,  0.07843137,  0.07843137],\n",
       "       [ 0.25490196,  0.01960784, -0.09803922, -0.09803922]])"
      ]
     },
     "execution_count": 22,
     "metadata": {},
     "output_type": "execute_result"
    }
   ],
   "source": [
    "np.linalg.inv(arr13)"
   ]
  },
  {
   "cell_type": "markdown",
   "metadata": {},
   "source": [
    "求迹："
   ]
  },
  {
   "cell_type": "code",
   "execution_count": 23,
   "metadata": {},
   "outputs": [
    {
     "data": {
      "text/plain": [
       "10"
      ]
     },
     "execution_count": 23,
     "metadata": {},
     "output_type": "execute_result"
    }
   ],
   "source": [
    "np.trace(arr13)"
   ]
  },
  {
   "cell_type": "markdown",
   "metadata": {},
   "source": [
    "求特征向量："
   ]
  },
  {
   "cell_type": "code",
   "execution_count": 24,
   "metadata": {},
   "outputs": [
    {
     "data": {
      "text/plain": [
       "(array([11.35035004, -3.99231852, -0.3732631 ,  3.01523159]),\n",
       " array([[-0.4754174 , -0.48095078, -0.95004728,  0.19967185],\n",
       "        [-0.60676806, -0.42159999,  0.28426325, -0.67482638],\n",
       "        [-0.36135292, -0.16859677,  0.08708826,  0.70663129],\n",
       "        [-0.52462832,  0.75000995,  0.09497472, -0.07357122]]))"
      ]
     },
     "execution_count": 24,
     "metadata": {},
     "output_type": "execute_result"
    }
   ],
   "source": [
    "np.linalg.eig(arr13)"
   ]
  },
  {
   "cell_type": "markdown",
   "metadata": {},
   "source": [
    "奇异值分解："
   ]
  },
  {
   "cell_type": "code",
   "execution_count": 25,
   "metadata": {},
   "outputs": [
    {
     "data": {
      "text/plain": [
       "(array([[-0.50908395,  0.27580803,  0.35260559, -0.73514132],\n",
       "        [-0.59475561,  0.4936665 , -0.53555663,  0.34020325],\n",
       "        [-0.39377551, -0.10084917,  0.70979004,  0.57529852],\n",
       "        [-0.48170545, -0.81856751, -0.29162732, -0.11340459]]),\n",
       " array([11.82715609,  4.35052602,  3.17710166,  0.31197297]),\n",
       " array([[-0.25836994, -0.52417446, -0.47551003, -0.65755329],\n",
       "        [-0.10914615, -0.38326507, -0.54167613,  0.74012294],\n",
       "        [-0.18632462, -0.68784764,  0.69085326,  0.12194478],\n",
       "        [ 0.94160248, -0.32436807, -0.05655931, -0.07050652]]))"
      ]
     },
     "execution_count": 25,
     "metadata": {},
     "output_type": "execute_result"
    }
   ],
   "source": [
    "np.linalg.svd(arr13)"
   ]
  },
  {
   "cell_type": "code",
   "execution_count": null,
   "metadata": {},
   "outputs": [],
   "source": []
  },
  {
   "cell_type": "markdown",
   "metadata": {},
   "source": [
    "(3) np.dot()\n",
    "\n",
    "np.dot()函数可以实现矩阵乘积运算，如果需要对两个arr13相乘\n",
    "\n",
    "矩阵相乘并不是随便两个矩阵就能够实现的，现在定义数组arr14为一个3x4的矩阵，数组arr15为一个4x3的矩阵，使得它们相乘，也就是说，第二个矩阵的行数必须和前一个矩阵的列数相同。结果如下："
   ]
  },
  {
   "cell_type": "code",
   "execution_count": 26,
   "metadata": {},
   "outputs": [
    {
     "data": {
      "text/plain": [
       "array([[1, 2, 3, 5],\n",
       "       [2, 4, 1, 6],\n",
       "       [1, 1, 4, 3],\n",
       "       [2, 5, 4, 1]])"
      ]
     },
     "execution_count": 26,
     "metadata": {},
     "output_type": "execute_result"
    }
   ],
   "source": [
    "arr13"
   ]
  },
  {
   "cell_type": "code",
   "execution_count": 27,
   "metadata": {},
   "outputs": [
    {
     "data": {
      "text/plain": [
       "array([[18, 38, 34],\n",
       "       [23, 51, 37],\n",
       "       [13, 25, 28]])"
      ]
     },
     "execution_count": 27,
     "metadata": {},
     "output_type": "execute_result"
    }
   ],
   "source": [
    "arr14 = np.array([[1,2,3,5],[2,4,1,6],[1,1,4,3]])\n",
    "arr15 = np.array([[1,2,3],[2,4,1],[1,1,3],[2,5,4]])\n",
    "\n",
    "np.dot(arr14,arr15)"
   ]
  },
  {
   "cell_type": "code",
   "execution_count": null,
   "metadata": {},
   "outputs": [],
   "source": []
  },
  {
   "cell_type": "code",
   "execution_count": null,
   "metadata": {},
   "outputs": [],
   "source": []
  },
  {
   "cell_type": "markdown",
   "metadata": {},
   "source": [
    "## .describe()  如a.describe()  、data['Age'].describe()\n",
    "\n",
    "## .corr() 求相关系数 如 a.corr() \n",
    "\n",
    "## .corrwith()可以提取某一变量，查看其与其他变量之间的相关性，如需查看x1与x2、x3之间的相关性\n",
    "## 如，df.corrwith(df['x1'])\n",
    "\n",
    "## 3 .cov() 用来计算协方差矩阵\n",
    "\n"
   ]
  }
 ],
 "metadata": {
  "kernelspec": {
   "display_name": "Python 3",
   "language": "python",
   "name": "python3"
  },
  "language_info": {
   "codemirror_mode": {
    "name": "ipython",
    "version": 3
   },
   "file_extension": ".py",
   "mimetype": "text/x-python",
   "name": "python",
   "nbconvert_exporter": "python",
   "pygments_lexer": "ipython3",
   "version": "3.8.3"
  }
 },
 "nbformat": 4,
 "nbformat_minor": 4
}
