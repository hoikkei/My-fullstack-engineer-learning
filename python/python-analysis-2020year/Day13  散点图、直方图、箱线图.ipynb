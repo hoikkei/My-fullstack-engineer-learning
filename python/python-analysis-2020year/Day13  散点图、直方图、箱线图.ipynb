{
 "cells": [
  {
   "cell_type": "markdown",
   "metadata": {},
   "source": [
    "## 散点图是两组数据构成多个坐标点，通过坐标点的分布，判断两变量之间是否存在某种关联或总结坐标点的分布模式。"
   ]
  },
  {
   "cell_type": "code",
   "execution_count": 10,
   "metadata": {},
   "outputs": [
    {
     "data": {
      "image/png": "[encoded data removed]",
      "text/plain": [
       "<Figure size 432x288 with 1 Axes>"
      ]
     },
     "metadata": {
      "needs_background": "light"
     },
     "output_type": "display_data"
    }
   ],
   "source": [
    "import numpy as np\n",
    "import matplotlib.pyplot as plt\n",
    "\n",
    "# 创建一组随机数\n",
    "x=np.random.randn(100)\n",
    "y=np.random.randn(100)\n",
    "#s为点的大小\n",
    "plt.scatter(x,y,s=20)\n",
    "#设置图表标题并给坐标轴加上标签\n",
    "plt.title(\"Scatter pic\",fontsize=18)\n",
    "plt.xlabel(\"Value\",fontsize=14)\n",
    "plt.ylabel(\"Scatter of value\",fontsize=14)\n",
    "#设置刻度标记的大小\n",
    "plt.tick_params(axis='both',which='major',labelsize=14)\n",
    "plt.plot(x,y,'o',color='blue');"
   ]
  },
  {
   "cell_type": "markdown",
   "metadata": {},
   "source": [
    "## 直方图\n"
   ]
  },
  {
   "cell_type": "code",
   "execution_count": 11,
   "metadata": {},
   "outputs": [
    {
     "data": {
      "text/plain": [
       "(array([ 2.,  1.,  0.,  4.,  1.,  7.,  2.,  2.,  7.,  6.,  6.,  4.,  8.,\n",
       "         2.,  9.,  9.,  3., 11.,  2.,  4.,  7.,  0.,  1.,  0.,  0.,  1.,\n",
       "         0.,  0.,  0.,  1.]),\n",
       " array([-2.20380293, -2.03065626, -1.8575096 , -1.68436293, -1.51121627,\n",
       "        -1.3380696 , -1.16492293, -0.99177627, -0.8186296 , -0.64548293,\n",
       "        -0.47233627, -0.2991896 , -0.12604293,  0.04710373,  0.2202504 ,\n",
       "         0.39339707,  0.56654373,  0.7396904 ,  0.91283707,  1.08598373,\n",
       "         1.2591304 ,  1.43227706,  1.60542373,  1.7785704 ,  1.95171706,\n",
       "         2.12486373,  2.2980104 ,  2.47115706,  2.64430373,  2.8174504 ,\n",
       "         2.99059706]),\n",
       " <a list of 30 Patch objects>)"
      ]
     },
     "execution_count": 11,
     "metadata": {},
     "output_type": "execute_result"
    },
    {
     "data": {
      "image/png": "[encoded data removed]",
      "text/plain": [
       "<Figure size 432x288 with 1 Axes>"
      ]
     },
     "metadata": {
      "needs_background": "light"
     },
     "output_type": "display_data"
    }
   ],
   "source": [
    "x=np.random.normal(size=100)\n",
    "plt.hist(x,bins=30)"
   ]
  },
  {
   "cell_type": "markdown",
   "metadata": {},
   "source": [
    "## 箱线图\n"
   ]
  },
  {
   "cell_type": "markdown",
   "metadata": {},
   "source": [
    "plt.boxplot(x,noth=None,vert=None,whis=None,position=None,width=None,path_artist=None,meanline=None,meanline=None,showmeans=None,showcaps=None,showbox=None,showfliers=None,boxprops=None,labels=None,flierpros=None,medianprops=None,meanprops=None,cappropsNone,whiskerprops=None)"
   ]
  },
  {
   "cell_type": "markdown",
   "metadata": {},
   "source": [
    "x：指定要绘制箱线图的数据；\n",
    "notch：是否是凹口的形式展现箱线图，默认非凹口；\n",
    "sym：指定异常点的形状，默认为+号显示；\n",
    "vert：是否需要将箱线图垂直摆放，默认垂直摆放；\n",
    "whis：指定上下须与上下四分位的距离，默认为1.5倍的四分位差；\n",
    "positions：指定箱线图的位置，默认为[0,1,2…]；\n",
    "widths：指定箱线图的宽度，默认为0.5；\n",
    "patch_artist：是否填充箱体的颜色；\n",
    "meanline：是否用线的形式表示均值，默认用点来表示；\n",
    "showmeans：是否显示均值，默认不显示；\n",
    "showcaps：是否显示箱线图顶端和末端的两条线，默认显示；\n",
    "showbox：是否显示箱线图的箱体，默认显示；\n",
    "showfliers：是否显示异常值，默认显示；\n",
    "boxprops：设置箱体的属性，如边框色，填充色等；\n",
    "labels：为箱线图添加标签，类似于图例的作用；\n",
    "filerprops：设置异常值的属性，如异常点的形状、大小、填充色等；\n",
    "medianprops：设置中位数的属性，如线的类型、粗细等；\n",
    "meanprops：设置均值的属性，如点的大小、颜色等；\n",
    "capprops：设置箱线图顶端和末端线条的属性，如颜色、粗细等；\n",
    "whiskerprops：设置须的属性，如颜色、粗细、线的类型等；"
   ]
  },
  {
   "cell_type": "code",
   "execution_count": 12,
   "metadata": {},
   "outputs": [
    {
     "data": {
      "image/png": "[encoded data removed]",
      "text/plain": [
       "<Figure size 432x288 with 1 Axes>"
      ]
     },
     "metadata": {},
     "output_type": "display_data"
    }
   ],
   "source": [
    "# 首先导入基本的绘图包\n",
    "\n",
    "import matplotlib.pyplot as plt\n",
    "import numpy as np\n",
    "import pandas as pd\n",
    "\n",
    "#添加成绩表\n",
    "plt.style.use(\"ggplot\")\n",
    "plt.rcParams['axes.unicode_minus'] = False\n",
    "plt.rcParams['font.sans-serif'] = ['SimHei']\n",
    "\n",
    "#新建一个空的DataFrame\n",
    "df=pd.DataFrame()\n",
    "\n",
    "#添加成绩单，最后显示成绩单表格\n",
    "\n",
    "df[\"英语\"]=[76,90,97,71,70,93,86,83,78,85,81]\n",
    "df[\"经济数学\"]=[65,95,51,74,78,63,91,82,75,71,55]\n",
    "df[\"西方经济学\"]=[93,81,76,88,66,79,83,92,78,66,78]\n",
    "df[\"计算机应用基础\"]=[85,78,81,95,70,67,82,72,80,81,77]\n",
    "df\n",
    "\n",
    "#用matplotlib来画出箱线图\n",
    "plt.boxplot(x=df.values,labels=df.columns,whis=1.5)\n",
    "plt.show()"
   ]
  },
  {
   "cell_type": "code",
   "execution_count": null,
   "metadata": {},
   "outputs": [],
   "source": []
  }
 ],
 "metadata": {
  "kernelspec": {
   "display_name": "Python 3",
   "language": "python",
   "name": "python3"
  },
  "language_info": {
   "codemirror_mode": {
    "name": "ipython",
    "version": 3
   },
   "file_extension": ".py",
   "mimetype": "text/x-python",
   "name": "python",
   "nbconvert_exporter": "python",
   "pygments_lexer": "ipython3",
   "version": "3.8.3"
  }
 },
 "nbformat": 4,
 "nbformat_minor": 4
}
